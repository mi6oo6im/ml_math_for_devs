{
 "cells": [
  {
   "cell_type": "markdown",
   "metadata": {},
   "source": [
    "### Statistics"
   ]
  },
  {
   "cell_type": "markdown",
   "metadata": {},
   "source": [
    "Two tipes of statistics:"
   ]
  },
  {
   "cell_type": "markdown",
   "metadata": {},
   "source": [
    "* descriptive\n",
    "* prescriptive"
   ]
  },
  {
   "cell_type": "markdown",
   "metadata": {},
   "source": [
    "population - All possible data\n",
    "sample - partial data\n",
    "\n",
    "Big numbers law - the bigger the number the better"
   ]
  },
  {
   "cell_type": "markdown",
   "metadata": {
    "vscode": {
     "languageId": "plaintext"
    }
   },
   "source": [
    "Gödel's incompleteness theorems\n",
    "Sampling frame\n",
    "Sample\n",
    "Random sample\n",
    "Representative Sample\n",
    "\n",
    "Absence of evidence is not evidence of absense"
   ]
  }
 ],
 "metadata": {
  "language_info": {
   "name": "python"
  }
 },
 "nbformat": 4,
 "nbformat_minor": 2
}
