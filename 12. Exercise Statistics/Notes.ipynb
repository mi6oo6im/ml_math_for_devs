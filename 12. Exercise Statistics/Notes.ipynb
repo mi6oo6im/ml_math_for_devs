{
 "cells": [
  {
   "cell_type": "markdown",
   "metadata": {},
   "source": [
    "# Statistics Excercise "
   ]
  },
  {
   "cell_type": "markdown",
   "metadata": {},
   "source": [
    "Expectation = mean\n",
    "MLE = Maximum Likelihiood Estimation\n",
    "\n",
    "Naïve Bayes - part of a family of generative learning algorithms"
   ]
  }
 ],
 "metadata": {
  "language_info": {
   "name": "python"
  }
 },
 "nbformat": 4,
 "nbformat_minor": 2
}
