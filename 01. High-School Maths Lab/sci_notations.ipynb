{
 "cells": [
  {
   "cell_type": "markdown",
   "id": "6363f59c-6e69-4d2a-97cb-53a5d22a9990",
   "metadata": {},
   "source": [
    "# Scientific notations"
   ]
  },
  {
   "cell_type": "markdown",
   "id": "b2806675-0c4a-4554-9cb0-fd3cb4b6bc1a",
   "metadata": {},
   "source": [
    "$$ 15000 == 1,5 . 10 ^ 4 == 1.5e4 $$"
   ]
  },
  {
   "cell_type": "markdown",
   "id": "bb5c8b4d-6421-4bb1-9b5c-b89c2bca2c46",
   "metadata": {},
   "source": [
    "$$ 0,000015 == 1,5 * 10^{-5} == 1.5e-5$$"
   ]
  },
  {
   "cell_type": "code",
   "execution_count": null,
   "id": "b9131733-89a3-4f44-a2d4-d66db3bf8271",
   "metadata": {},
   "outputs": [],
   "source": [
    " "
   ]
  },
  {
   "cell_type": "markdown",
   "id": "2dc3f056-6130-4409-adf8-27b4854b30ec",
   "metadata": {},
   "source": [
    "$$ 2^{-n} $$"
   ]
  },
  {
   "cell_type": "markdown",
   "id": "eeb2a9c2-d87c-4876-8cce-c59a8d8df58e",
   "metadata": {},
   "source": [
    "## Linear equation"
   ]
  },
  {
   "cell_type": "code",
   "execution_count": 4,
   "id": "b63db2ee-7b04-4866-b8bf-42badd4f782f",
   "metadata": {},
   "outputs": [],
   "source": [
    "def solve_linear_equation(a, b):\n",
    "    if a == 0:\n",
    "        return []\n",
    "    else:\n",
    "        return -b / a"
   ]
  },
  {
   "cell_type": "code",
   "execution_count": 5,
   "id": "4b0ca6c1-942d-4fb7-92f8-23f0758b670c",
   "metadata": {},
   "outputs": [
    {
     "name": "stdout",
     "output_type": "stream",
     "text": [
      "[]\n",
      "[]\n",
      "0.0\n",
      "-1.0\n",
      "2.12\n"
     ]
    }
   ],
   "source": [
    "print(solve_linear_equation(0, 0)) # []\n",
    "print(solve_linear_equation(0, 5)) # []\n",
    "print(solve_linear_equation(5, 0)) # 0.0\n",
    "print(solve_linear_equation(5, 5)) # -1.0\n",
    "print(solve_linear_equation(2.5, -5.3)) # 2.12"
   ]
  },
  {
   "cell_type": "code",
   "execution_count": null,
   "id": "5256d572-38b6-4ba1-ab6e-01a549333996",
   "metadata": {},
   "outputs": [],
   "source": []
  }
 ],
 "metadata": {
  "kernelspec": {
   "display_name": "Python 3 (ipykernel)",
   "language": "python",
   "name": "python3"
  },
  "language_info": {
   "codemirror_mode": {
    "name": "ipython",
    "version": 3
   },
   "file_extension": ".py",
   "mimetype": "text/x-python",
   "name": "python",
   "nbconvert_exporter": "python",
   "pygments_lexer": "ipython3",
   "version": "3.11.7"
  }
 },
 "nbformat": 4,
 "nbformat_minor": 5
}
