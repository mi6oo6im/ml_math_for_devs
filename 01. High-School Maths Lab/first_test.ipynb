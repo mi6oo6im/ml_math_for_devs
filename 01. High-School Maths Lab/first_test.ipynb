{
 "cells": [
  {
   "cell_type": "markdown",
   "id": "bfae5089-6333-4b5f-ac92-424aabcaeeff",
   "metadata": {},
   "source": [
    "# Misho test\n",
    "## This is my first Jupyter notebook test"
   ]
  },
  {
   "cell_type": "code",
   "execution_count": 2,
   "id": "ac85e122-ca48-4e0a-97b3-7e129ed17242",
   "metadata": {},
   "outputs": [
    {
     "name": "stdout",
     "output_type": "stream",
     "text": [
      "Hello World\n"
     ]
    }
   ],
   "source": [
    "print('Hello World')"
   ]
  },
  {
   "cell_type": "code",
   "execution_count": null,
   "id": "8e7ae59d-9213-4d82-9757-547e28f6eff2",
   "metadata": {},
   "outputs": [],
   "source": []
  }
 ],
 "metadata": {
  "kernelspec": {
   "display_name": "Python 3 (ipykernel)",
   "language": "python",
   "name": "python3"
  },
  "language_info": {
   "codemirror_mode": {
    "name": "ipython",
    "version": 3
   },
   "file_extension": ".py",
   "mimetype": "text/x-python",
   "name": "python",
   "nbconvert_exporter": "python",
   "pygments_lexer": "ipython3",
   "version": "3.11.7"
  }
 },
 "nbformat": 4,
 "nbformat_minor": 5
}
