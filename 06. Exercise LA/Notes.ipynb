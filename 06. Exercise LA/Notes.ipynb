{
 "cells": [
  {
   "cell_type": "code",
   "execution_count": 1,
   "metadata": {},
   "outputs": [],
   "source": [
    "# imports\n",
    "import numpy as np"
   ]
  },
  {
   "cell_type": "markdown",
   "metadata": {},
   "source": [
    "### Solving system of linear equasions"
   ]
  },
  {
   "cell_type": "markdown",
   "metadata": {},
   "source": [
    "Gauss-Jordan method\n",
    "$$\n",
    "\\left|\n",
    "\\begin{align*}\n",
    "    1x_1 + 1x_2 + 1x_3 = 5 \\\\\n",
    "    2x_1 + 3x_2 + 5x_3 = 8 \\\\\n",
    "    4x_1 + 0x_2 + 5x_3 = 2 \\\\\n",
    "\\end{align*}\n",
    "\\right.\n",
    "$$\n",
    "\n",
    "$$ \\downarrow $$\n",
    "\n",
    "$$\n",
    "\\left|\n",
    "\\begin{align*}\n",
    "    1x_1 + 0x_2 + 0x_3 = ? \\\\\n",
    "    0x_1 + 1x_2 + 0x_3 = ? \\\\\n",
    "    0x_1 + 0x_2 + 1x_3 = ? \\\\\n",
    "\\end{align*}\n",
    "\n",
    "\\right.\n",
    "$$\n",
    "$$ Ax = b $$\n",
    "$$ \n",
    "\\left[\n",
    "\\begin{align*}\n",
    "      1 \\space 1 \\space 1 \\\\\n",
    "      2 \\space 3 \\space 5 \\\\\n",
    "      4 \\space 0 \\space 5 \\\\\n",
    "    \\end{align*}\n",
    "\\middle|\n",
    "\\begin{align*}\n",
    "      5 \\\\\n",
    "      8 \\\\\n",
    "      2 \\\\\n",
    "    \\end{align*}\n",
    "\\right]$$\n",
    "$$ \\downarrow $$\n",
    "$$ \n",
    "\\left[\n",
    "\\begin{align*}\n",
    "      1 \\space 0 \\space 0 \\\\\n",
    "      0 \\space 1 \\space 0 \\\\\n",
    "      0 \\space 0 \\space 1 \\\\\n",
    "    \\end{align*}\n",
    "\\middle|\n",
    "\\begin{align*}\n",
    "      3 \\\\\n",
    "      4 \\\\\n",
    "      -2 \\\\\n",
    "    \\end{align*}\n",
    "\\right]$$\n",
    "\n",
    "$$ \\downarrow $$\n",
    "\n",
    "$$\n",
    "\\left|\n",
    "\\begin{align*}\n",
    "    x_1 = 3 \\\\\n",
    "    x_2 = 4 \\\\\n",
    "    x_3 = -2 \\\\\n",
    "\\end{align*}\n",
    "\n",
    "\\right.\n",
    "$$"
   ]
  },
  {
   "cell_type": "code",
   "execution_count": 3,
   "metadata": {},
   "outputs": [
    {
     "data": {
      "text/plain": [
       "array([ 3.,  4., -2.])"
      ]
     },
     "execution_count": 3,
     "metadata": {},
     "output_type": "execute_result"
    }
   ],
   "source": [
    "np.linalg.solve(\n",
    "    [\n",
    "        [1, 1, 1],\n",
    "        [2, 3, 5],\n",
    "        [4, 0, 5],\n",
    "    ], \n",
    "    [5, 8, 2]\n",
    ")"
   ]
  },
  {
   "cell_type": "markdown",
   "metadata": {},
   "source": [
    "PCA - Principal Component Analysis "
   ]
  },
  {
   "cell_type": "markdown",
   "metadata": {},
   "source": [
    "Principal of superposition\n",
    "Wave interference\n",
    "k-means / self organizing maps - unsupervised learning"
   ]
  }
 ],
 "metadata": {
  "kernelspec": {
   "display_name": "base",
   "language": "python",
   "name": "python3"
  },
  "language_info": {
   "codemirror_mode": {
    "name": "ipython",
    "version": 3
   },
   "file_extension": ".py",
   "mimetype": "text/x-python",
   "name": "python",
   "nbconvert_exporter": "python",
   "pygments_lexer": "ipython3",
   "version": "3.11.7"
  }
 },
 "nbformat": 4,
 "nbformat_minor": 2
}
