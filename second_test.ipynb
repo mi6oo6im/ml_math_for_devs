{
 "cells": [
  {
   "cell_type": "markdown",
   "id": "1b4111a3-b5b5-45a2-a348-63416ba89a9a",
   "metadata": {},
   "source": [
    "# Second test for Jupyter Notebook"
   ]
  },
  {
   "cell_type": "code",
   "execution_count": 2,
   "id": "ad0ccef8-2cdf-4830-a795-1a0edb454e13",
   "metadata": {},
   "outputs": [
    {
     "name": "stdout",
     "output_type": "stream",
     "text": [
      "3\n"
     ]
    }
   ],
   "source": [
    "print(1 + 2)"
   ]
  },
  {
   "cell_type": "markdown",
   "id": "ffc31531-867a-4941-bebe-6f8dcc727f90",
   "metadata": {},
   "source": [
    "$$ y=ax+b $$"
   ]
  },
  {
   "cell_type": "markdown",
   "id": "754fe899-75a0-4b94-b583-ab8a41ae2ef2",
   "metadata": {},
   "source": [
    "## Section 1\n",
    "Some text here. Some text here.Some text here.Some text here.Some text here.Some text here.Some text here.Some text here.Some text here.Some text here.Some text here.Some text here."
   ]
  },
  {
   "cell_type": "code",
   "execution_count": 3,
   "id": "f61af491-b5e3-40fa-b54d-522c8065f3ca",
   "metadata": {},
   "outputs": [
    {
     "data": {
      "text/plain": [
       "32"
      ]
     },
     "execution_count": 3,
     "metadata": {},
     "output_type": "execute_result"
    }
   ],
   "source": [
    "2 ** 5"
   ]
  },
  {
   "cell_type": "markdown",
   "id": "539ad46e-f6e3-44ce-a01d-d35844014bce",
   "metadata": {},
   "source": [
    "## Section 1\n",
    "Some text here. Some text here.Some text here.Some text here.Some text here.Some text here.Some text here.Some text here.Some text here.Some text here.Some text here.Some text here."
   ]
  },
  {
   "cell_type": "markdown",
   "id": "d5158c32-6917-4913-bd62-23dafe736d82",
   "metadata": {},
   "source": []
  }
 ],
 "metadata": {
  "kernelspec": {
   "display_name": "Python 3 (ipykernel)",
   "language": "python",
   "name": "python3"
  },
  "language_info": {
   "codemirror_mode": {
    "name": "ipython",
    "version": 3
   },
   "file_extension": ".py",
   "mimetype": "text/x-python",
   "name": "python",
   "nbconvert_exporter": "python",
   "pygments_lexer": "ipython3",
   "version": "3.11.7"
  }
 },
 "nbformat": 4,
 "nbformat_minor": 5
}
