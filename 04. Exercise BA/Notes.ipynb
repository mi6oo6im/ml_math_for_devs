{
 "cells": [
  {
   "cell_type": "markdown",
   "id": "81c89dc5-a74d-4106-b24d-7710b7388a00",
   "metadata": {},
   "source": []
  },
  {
   "cell_type": "markdown",
   "id": "fd33f630-4548-4318-8605-0169008503e0",
   "metadata": {},
   "source": [
    "### Exercise Basic Algebra scratches"
   ]
  },
  {
   "cell_type": "code",
   "execution_count": 1,
   "id": "77f05884-f45c-4939-8787-18581169d22d",
   "metadata": {},
   "outputs": [],
   "source": [
    "# imports\n",
    "import numpy as np\n",
    "import matplotlib as mlp"
   ]
  },
  {
   "cell_type": "code",
   "execution_count": null,
   "id": "99a7180a-8253-445f-b3b4-5d9ee1d34bdf",
   "metadata": {},
   "outputs": [],
   "source": []
  },
  {
   "cell_type": "markdown",
   "id": "f909c341-90e1-4777-879d-5ae802b8b170",
   "metadata": {},
   "source": []
  },
  {
   "cell_type": "markdown",
   "id": "3a146139-8544-4a16-80c1-75dce6a083a3",
   "metadata": {},
   "source": [
    "#### Functions in Python"
   ]
  },
  {
   "cell_type": "markdown",
   "id": "e1622f05-b713-4a52-b9c9-06fe781ab161",
   "metadata": {},
   "source": [
    "It's good to write code based on conventions and best practices\n",
    "Code is written for the people, not for the compiler. \n",
    "When we write in groups, we should tend to make sure the code will look as if written by a single person.\n",
    "Style, conventions, best practices.\n",
    "Python is multi-paradigm language\n",
    "functional, OOP\n",
    "A function depends only on its parameters\n",
    "A function should do its work, to return a value or throw an error.\n"
   ]
  },
  {
   "cell_type": "code",
   "execution_count": 5,
   "id": "2938db26-5148-4eb6-af7d-8cb16570da86",
   "metadata": {},
   "outputs": [],
   "source": [
    "def get_numbers(low, high):\n",
    "    return list(range(low, high))"
   ]
  },
  {
   "cell_type": "code",
   "execution_count": 8,
   "id": "c89d9715-afd3-479d-adf5-e00acaa1956c",
   "metadata": {},
   "outputs": [],
   "source": [
    "numbers = get_numbers(1, 11)"
   ]
  },
  {
   "cell_type": "code",
   "execution_count": 18,
   "id": "2f4d16c3-dc8e-4ba5-a334-3c2e846aeec9",
   "metadata": {},
   "outputs": [
    {
     "data": {
      "text/plain": [
       "[1, 2, 3, 4, 5, 6, 7, 8, 9, 10]"
      ]
     },
     "execution_count": 18,
     "metadata": {},
     "output_type": "execute_result"
    }
   ],
   "source": [
    "numbers"
   ]
  },
  {
   "cell_type": "code",
   "execution_count": 13,
   "id": "807ae9db-c417-4358-b913-443ddac97d4d",
   "metadata": {},
   "outputs": [],
   "source": [
    "mapped_numbers = list(map(lambda n: n + 2, numbers))"
   ]
  },
  {
   "cell_type": "code",
   "execution_count": 20,
   "id": "4cca1f18-6c36-419d-a9ff-0033b40ab279",
   "metadata": {},
   "outputs": [
    {
     "data": {
      "text/plain": [
       "[3, 4, 5, 6, 7, 8, 9, 10, 11, 12]"
      ]
     },
     "execution_count": 20,
     "metadata": {},
     "output_type": "execute_result"
    }
   ],
   "source": [
    "mapped_numbers"
   ]
  },
  {
   "cell_type": "code",
   "execution_count": 15,
   "id": "45ab2be1-61e0-4cbb-9f8b-1905cdaf82fd",
   "metadata": {},
   "outputs": [
    {
     "data": {
      "text/plain": [
       "[3, 4]"
      ]
     },
     "execution_count": 15,
     "metadata": {},
     "output_type": "execute_result"
    }
   ],
   "source": [
    "list(filter(lambda n: n < 5, mapped_numbers))"
   ]
  },
  {
   "cell_type": "code",
   "execution_count": 17,
   "id": "4bfe73d0-0f72-4414-b908-6234c20efc5c",
   "metadata": {},
   "outputs": [
    {
     "data": {
      "text/plain": [
       "[49, 64]"
      ]
     },
     "execution_count": 17,
     "metadata": {},
     "output_type": "execute_result"
    }
   ],
   "source": [
    "[(n + 2) ** 2 for n in numbers if (n < 7) and (n ** 2 >= 25)]"
   ]
  },
  {
   "cell_type": "markdown",
   "id": "471c9c8f-3cdf-4cf4-9d28-327555d95fcf",
   "metadata": {},
   "source": [
    "Closure in Python"
   ]
  },
  {
   "cell_type": "code",
   "execution_count": 21,
   "id": "f8d2d43c-2412-4cd6-9715-ebac51cf57b2",
   "metadata": {},
   "outputs": [],
   "source": [
    "def summator(a):\n",
    "    def inner_summator(b):\n",
    "        return a + b\n",
    "    return inner_summator"
   ]
  },
  {
   "cell_type": "code",
   "execution_count": 22,
   "id": "8202d1de-4c3e-48a3-83b9-c13bc0c0c6a6",
   "metadata": {},
   "outputs": [],
   "source": [
    "add5 = summator(5)"
   ]
  },
  {
   "cell_type": "code",
   "execution_count": 23,
   "id": "1806e24a-281f-428b-b363-27fcd9294318",
   "metadata": {},
   "outputs": [
    {
     "data": {
      "text/plain": [
       "15"
      ]
     },
     "execution_count": 23,
     "metadata": {},
     "output_type": "execute_result"
    }
   ],
   "source": [
    "add5(10)"
   ]
  },
  {
   "cell_type": "code",
   "execution_count": 24,
   "id": "6293c037-44ea-430c-b133-d72d981f2624",
   "metadata": {},
   "outputs": [
    {
     "data": {
      "text/plain": [
       "[6, 7, 8, 9, 10, 11, 12, 13, 14, 15]"
      ]
     },
     "execution_count": 24,
     "metadata": {},
     "output_type": "execute_result"
    }
   ],
   "source": [
    "[add5(n) for n in numbers]"
   ]
  },
  {
   "cell_type": "code",
   "execution_count": 25,
   "id": "38617f7b-c98c-4bb8-9943-5267dbc51ba5",
   "metadata": {},
   "outputs": [
    {
     "data": {
      "text/plain": [
       "[11, 12, 13, 14, 15, 16, 17, 18, 19, 20]"
      ]
     },
     "execution_count": 25,
     "metadata": {},
     "output_type": "execute_result"
    }
   ],
   "source": [
    "[summator(10)(n) for n in numbers]"
   ]
  },
  {
   "cell_type": "markdown",
   "id": "c0b2ef7a-066b-44c9-9577-f19cb5460801",
   "metadata": {},
   "source": [
    "Libraries:\n",
    "itertools, functools, toolz\n",
    "functional programming.\n",
    "\n",
    "lambda calculus - λ-calculus"
   ]
  },
  {
   "cell_type": "code",
   "execution_count": 27,
   "id": "7b1d320a-e68c-4f8f-958b-10940daee8f8",
   "metadata": {},
   "outputs": [
    {
     "data": {
      "text/plain": [
       "array([False, False, False, False, False, False, False, False, False,\n",
       "       False, False,  True,  True,  True,  True,  True,  True,  True,\n",
       "        True,  True])"
      ]
     },
     "execution_count": 27,
     "metadata": {},
     "output_type": "execute_result"
    }
   ],
   "source": [
    "np.arange(20) > 10"
   ]
  },
  {
   "cell_type": "code",
   "execution_count": 29,
   "id": "c1738448-1323-4396-9cba-3481b1bf32ba",
   "metadata": {},
   "outputs": [
    {
     "data": {
      "text/plain": [
       "array([ 0,  1,  2,  3,  4,  5,  6,  7,  8,  9, 10, 11, 12, 13, 14, 15, 16,\n",
       "       17, 18, 19])"
      ]
     },
     "execution_count": 29,
     "metadata": {},
     "output_type": "execute_result"
    }
   ],
   "source": [
    "np_nums = np.arange(20)\n",
    "np_nums"
   ]
  },
  {
   "cell_type": "code",
   "execution_count": 30,
   "id": "722a2f97-2f9f-41c0-9376-c053ecde72f5",
   "metadata": {},
   "outputs": [
    {
     "data": {
      "text/plain": [
       "array([ 8, 10, 12, 14, 16, 18, 20, 22, 24, 26, 28, 30, 32, 34, 36, 38])"
      ]
     },
     "execution_count": 30,
     "metadata": {},
     "output_type": "execute_result"
    }
   ],
   "source": [
    "np_nums[np_nums>3] * 2"
   ]
  },
  {
   "cell_type": "code",
   "execution_count": 31,
   "id": "1162021b-934f-49b9-a89f-6ec6c1c30e9c",
   "metadata": {},
   "outputs": [
    {
     "data": {
      "text/plain": [
       "array([ 0,  2,  4,  6,  8, 10, 12, 14, 16, 18, 20, 22, 24, 26, 28, 30, 32,\n",
       "       34, 36, 38])"
      ]
     },
     "execution_count": 31,
     "metadata": {},
     "output_type": "execute_result"
    }
   ],
   "source": [
    "np_nums * 2"
   ]
  },
  {
   "cell_type": "markdown",
   "id": "27c6db51-1cfe-4b20-8036-a800eb898bce",
   "metadata": {},
   "source": [
    "y = f(x)"
   ]
  },
  {
   "cell_type": "markdown",
   "id": "86fca89c-cf1e-4d3f-b635-acfd69498b21",
   "metadata": {},
   "source": [
    "Iterative vs. recursive method."
   ]
  },
  {
   "cell_type": "markdown",
   "id": "f4b95789-6c37-43bd-b729-83dc79c403e0",
   "metadata": {},
   "source": [
    "#### Functions in Math"
   ]
  },
  {
   "cell_type": "markdown",
   "id": "9b91c326-da74-4569-9a10-86bd53992c5a",
   "metadata": {},
   "source": [
    "Maths conventions - we can reuse the results\n"
   ]
  },
  {
   "cell_type": "markdown",
   "id": "834d066d-bb5d-46a1-8a5f-bc39fc94c27b",
   "metadata": {},
   "source": [
    "Interpolation.\n",
    "y = f(x) ==> we assume that y depends on x\n",
    "we assume that f is a minimalistic polynomial \n",
    "Interpolation is within the known values, outside is Extrapolation. Extrapolation could be dangerous.\n",
    "System which with small differences in the entrance lead to huge differences on the exit are *chaotic*."
   ]
  },
  {
   "cell_type": "markdown",
   "id": "3eec752f-d5ec-4db0-8c57-4ac9fd2fc41b",
   "metadata": {},
   "source": []
  },
  {
   "cell_type": "code",
   "execution_count": null,
   "id": "86a22e47-da5a-4f84-9602-8d2c6ae455dc",
   "metadata": {},
   "outputs": [],
   "source": []
  }
 ],
 "metadata": {
  "kernelspec": {
   "display_name": "Python 3 (ipykernel)",
   "language": "python",
   "name": "python3"
  },
  "language_info": {
   "codemirror_mode": {
    "name": "ipython",
    "version": 3
   },
   "file_extension": ".py",
   "mimetype": "text/x-python",
   "name": "python",
   "nbconvert_exporter": "python",
   "pygments_lexer": "ipython3",
   "version": "3.11.7"
  }
 },
 "nbformat": 4,
 "nbformat_minor": 5
}
